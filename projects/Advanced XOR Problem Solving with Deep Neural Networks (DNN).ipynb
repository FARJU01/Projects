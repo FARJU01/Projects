{
 "cells": [
  {
   "cell_type": "code",
   "execution_count": 2,
   "id": "38038f3f",
   "metadata": {},
   "outputs": [
    {
     "name": "stdout",
     "output_type": "stream",
     "text": [
      "1/1 [==============================] - 1s 553ms/step - loss: 0.4140 - accuracy: 1.0000\n",
      "Loss: 0.4140\n",
      "Accuracy: 100.00%\n",
      "1/1 [==============================] - 0s 317ms/step\n",
      "Predictions:\n",
      "Input: [0 0], Predicted Output: 0.3600\n",
      "Input: [0 1], Predicted Output: 0.6670\n",
      "Input: [1 0], Predicted Output: 0.6662\n",
      "Input: [1 1], Predicted Output: 0.3289\n"
     ]
    }
   ],
   "source": [
    "import numpy as np\n",
    "from keras.models import Sequential\n",
    "from keras.layers import Dense\n",
    "inputs = np.array([[0, 0], [0, 1], [1, 0], [1, 1]])\n",
    "outputs = np.array([[0], [1], [1], [0]])\n",
    "model = Sequential()\n",
    "model.add(Dense(8, input_dim=2, activation='relu'))\n",
    "model.add(Dense(1, activation='sigmoid'))\n",
    "model.compile(loss='binary_crossentropy', optimizer='adam', metrics=['accuracy'])\n",
    "model.fit(inputs, outputs, epochs=1000, verbose=0)\n",
    "loss, accuracy = model.evaluate(inputs, outputs)\n",
    "print(f'Loss: {loss:.4f}')\n",
    "print(f'Accuracy: {accuracy*100:.2f}%')\n",
    "predictions = model.predict(inputs)\n",
    "print('Predictions:')\n",
    "for i in range(len(inputs)):\n",
    "    print(f'Input: {inputs[i]}, Predicted Output: {predictions[i][0]:.4f}')\n"
   ]
  },
  {
   "cell_type": "code",
   "execution_count": null,
   "id": "a57e51a6",
   "metadata": {},
   "outputs": [],
   "source": []
  }
 ],
 "metadata": {
  "kernelspec": {
   "display_name": "Python 3 (ipykernel)",
   "language": "python",
   "name": "python3"
  },
  "language_info": {
   "codemirror_mode": {
    "name": "ipython",
    "version": 3
   },
   "file_extension": ".py",
   "mimetype": "text/x-python",
   "name": "python",
   "nbconvert_exporter": "python",
   "pygments_lexer": "ipython3",
   "version": "3.11.4"
  }
 },
 "nbformat": 4,
 "nbformat_minor": 5
}
