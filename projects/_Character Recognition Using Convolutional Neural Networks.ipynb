{
 "cells": [
  {
   "cell_type": "code",
   "execution_count": 1,
   "id": "9d4674b0",
   "metadata": {},
   "outputs": [],
   "source": [
    "import keras\n",
    "from keras.datasets import mnist\n",
    "from keras.models import Sequential\n",
    "from keras.layers import Dense, Dropout, Flatten\n",
    "from keras.layers import Conv2D, MaxPooling2D\n",
    "from keras import backend as K\n",
    "import pandas as pd\n",
    "import numpy as np\n",
    "import matplotlib as plt"
   ]
  },
  {
   "cell_type": "code",
   "execution_count": 4,
   "id": "648faeae",
   "metadata": {},
   "outputs": [
    {
     "data": {
      "text/plain": [
       "(60000, 785)"
      ]
     },
     "execution_count": 4,
     "metadata": {},
     "output_type": "execute_result"
    }
   ],
   "source": [
    "data = pd.read_csv(\"c:\\\\mnist_train.csv\",  header = None)\n",
    "data.shape"
   ]
  },
  {
   "cell_type": "code",
   "execution_count": 5,
   "id": "04c143ca",
   "metadata": {},
   "outputs": [
    {
     "name": "stdout",
     "output_type": "stream",
     "text": [
      "42000\n"
     ]
    }
   ],
   "source": [
    "numTrain =  int(0.7 * data.shape[0])\n",
    "print (numTrain)"
   ]
  },
  {
   "cell_type": "code",
   "execution_count": 6,
   "id": "008bb210",
   "metadata": {},
   "outputs": [],
   "source": [
    "np.random.seed(123)"
   ]
  },
  {
   "cell_type": "code",
   "execution_count": 7,
   "id": "9d4d83fa",
   "metadata": {},
   "outputs": [],
   "source": [
    "np.random.shuffle(data.values)"
   ]
  },
  {
   "cell_type": "code",
   "execution_count": 8,
   "id": "07fdb427",
   "metadata": {},
   "outputs": [
    {
     "name": "stdout",
     "output_type": "stream",
     "text": [
      "(42000, 785)\n",
      "(18000, 785)\n"
     ]
    }
   ],
   "source": [
    "trainData = data[:numTrain]\n",
    "testData = data[numTrain:]\n",
    "\n",
    "print (trainData.shape)\n",
    "print (testData.shape)"
   ]
  },
  {
   "cell_type": "code",
   "execution_count": 9,
   "id": "39c37bb3",
   "metadata": {},
   "outputs": [
    {
     "data": {
      "text/plain": [
       "1    4699\n",
       "7    4420\n",
       "3    4297\n",
       "9    4196\n",
       "6    4156\n",
       "4    4133\n",
       "0    4124\n",
       "2    4100\n",
       "8    4076\n",
       "5    3799\n",
       "Name: 0, dtype: int64"
      ]
     },
     "execution_count": 9,
     "metadata": {},
     "output_type": "execute_result"
    }
   ],
   "source": [
    "trainData.loc[:, 0].value_counts()"
   ]
  },
  {
   "cell_type": "code",
   "execution_count": 10,
   "id": "4077ef1b",
   "metadata": {},
   "outputs": [],
   "source": [
    "trainX = trainData.loc[:, 1:].values\n",
    "trainY = trainData.loc[:, 0].values"
   ]
  },
  {
   "cell_type": "code",
   "execution_count": 11,
   "id": "cb786e19",
   "metadata": {},
   "outputs": [
    {
     "data": {
      "text/plain": [
       "array([4, 9, 8, ..., 1, 3, 3], dtype=int64)"
      ]
     },
     "execution_count": 11,
     "metadata": {},
     "output_type": "execute_result"
    }
   ],
   "source": [
    "testX = testData.loc[:, 1:].values\n",
    "testY = testData.loc[:, 0].values\n",
    "trainY"
   ]
  },
  {
   "cell_type": "code",
   "execution_count": 12,
   "id": "ea615e81",
   "metadata": {},
   "outputs": [],
   "source": [
    "x_train = trainX.reshape(trainX.shape[0], 28, 28, 1)\n",
    "x_test = testX.reshape(testX.shape[0], 28, 28, 1)"
   ]
  },
  {
   "cell_type": "code",
   "execution_count": 13,
   "id": "b1ac681d",
   "metadata": {},
   "outputs": [
    {
     "data": {
      "text/plain": [
       "4"
      ]
     },
     "execution_count": 13,
     "metadata": {},
     "output_type": "execute_result"
    }
   ],
   "source": [
    "from tensorflow.python.keras.utils.np_utils import to_categorical\n",
    "num_classes = 10\n",
    "y_train = to_categorical(trainY, num_classes)\n",
    "y_test = to_categorical(testY, num_classes)\n",
    "trainY[0]"
   ]
  },
  {
   "cell_type": "code",
   "execution_count": 14,
   "id": "1d74f9a2",
   "metadata": {},
   "outputs": [
    {
     "data": {
      "text/plain": [
       "array([0., 0., 0., 0., 1., 0., 0., 0., 0., 0.], dtype=float32)"
      ]
     },
     "execution_count": 14,
     "metadata": {},
     "output_type": "execute_result"
    }
   ],
   "source": [
    "y_train[0]"
   ]
  },
  {
   "cell_type": "code",
   "execution_count": 16,
   "id": "49669a18",
   "metadata": {},
   "outputs": [
    {
     "name": "stdout",
     "output_type": "stream",
     "text": [
      "x_train shape: (42000, 28, 28, 1)\n",
      "42000 train samples\n",
      "18000 test samples\n"
     ]
    }
   ],
   "source": [
    "input_shape = (28, 28, 1)\n",
    "x_train = x_train.astype('float32')\n",
    "x_test = x_test.astype('float32')\n",
    "x_train /= 255\n",
    "x_test /= 255\n",
    "print('x_train shape:', x_train.shape)\n",
    "print(x_train.shape[0], 'train samples')\n",
    "print(x_test.shape[0], 'test samples')\n",
    "x_train_shape: (42000, 28, 28, 1)"
   ]
  },
  {
   "cell_type": "code",
   "execution_count": 17,
   "id": "057ce39b",
   "metadata": {},
   "outputs": [],
   "source": [
    "batch_size = 128"
   ]
  },
  {
   "cell_type": "code",
   "execution_count": 18,
   "id": "c37d4822",
   "metadata": {},
   "outputs": [],
   "source": [
    "epochs = 10\n",
    "model = Sequential()\n",
    "model.add(Conv2D(32, kernel_size=(3, 3),activation='relu',input_shape=input_shape))\n",
    "model.add(Conv2D(64, (3, 3), activation='relu'))\n",
    "model.add(MaxPooling2D(pool_size=(2, 2)))\n",
    "model.add(Dropout(0.25))\n",
    "model.add(Flatten())\n",
    "model.add(Dense(256, activation='relu'))\n",
    "model.add(Dropout(0.5))\n",
    "model.add(Dense(num_classes, activation='softmax'))\n",
    "model.compile(loss=keras.losses.categorical_crossentropy,optimizer='rmsprop',metrics=['accuracy'])"
   ]
  },
  {
   "cell_type": "code",
   "execution_count": 19,
   "id": "24a31b9d",
   "metadata": {},
   "outputs": [
    {
     "name": "stdout",
     "output_type": "stream",
     "text": [
      "Epoch 1/10\n",
      "329/329 [==============================] - 464s 1s/step - loss: 0.2534 - accuracy: 0.9212 - val_loss: 0.0748 - val_accuracy: 0.9762\n",
      "Epoch 2/10\n",
      "329/329 [==============================] - 422s 1s/step - loss: 0.0822 - accuracy: 0.9752 - val_loss: 0.0518 - val_accuracy: 0.9839\n",
      "Epoch 3/10\n",
      "329/329 [==============================] - 391s 1s/step - loss: 0.0573 - accuracy: 0.9825 - val_loss: 0.0507 - val_accuracy: 0.9842\n",
      "Epoch 4/10\n",
      "329/329 [==============================] - 441s 1s/step - loss: 0.0458 - accuracy: 0.9854 - val_loss: 0.0360 - val_accuracy: 0.9888\n",
      "Epoch 5/10\n",
      "329/329 [==============================] - 521s 2s/step - loss: 0.0373 - accuracy: 0.9882 - val_loss: 0.0294 - val_accuracy: 0.9903\n",
      "Epoch 6/10\n",
      "329/329 [==============================] - 456s 1s/step - loss: 0.0315 - accuracy: 0.9906 - val_loss: 0.0296 - val_accuracy: 0.9907\n",
      "Epoch 7/10\n",
      "329/329 [==============================] - 465s 1s/step - loss: 0.0276 - accuracy: 0.9918 - val_loss: 0.0326 - val_accuracy: 0.9899\n",
      "Epoch 8/10\n",
      "329/329 [==============================] - 447s 1s/step - loss: 0.0224 - accuracy: 0.9925 - val_loss: 0.0313 - val_accuracy: 0.9913\n",
      "Epoch 9/10\n",
      "329/329 [==============================] - 495s 2s/step - loss: 0.0211 - accuracy: 0.9929 - val_loss: 0.0349 - val_accuracy: 0.9903\n",
      "Epoch 10/10\n",
      "329/329 [==============================] - 429s 1s/step - loss: 0.0185 - accuracy: 0.9940 - val_loss: 0.0344 - val_accuracy: 0.9900\n",
      "The model has successfully trained\n"
     ]
    }
   ],
   "source": [
    "hist = model.fit(x_train, y_train,batch_size=batch_size,epochs=epochs,verbose=1,validation_data=(x_test, y_test))\n",
    "print(\"The model has successfully trained\")"
   ]
  },
  {
   "cell_type": "code",
   "execution_count": 20,
   "id": "cff3d7e6",
   "metadata": {},
   "outputs": [
    {
     "name": "stdout",
     "output_type": "stream",
     "text": [
      "Test loss: 0.034356240183115005\n",
      "Test accuracy: 0.9900000095367432\n"
     ]
    }
   ],
   "source": [
    "score = model.evaluate(x_test, y_test, verbose=0)\n",
    "print('Test loss:', score[0])\n",
    "print('Test accuracy:', score[1])"
   ]
  },
  {
   "cell_type": "code",
   "execution_count": 21,
   "id": "4a68dd7e",
   "metadata": {},
   "outputs": [
    {
     "data": {
      "text/plain": [
       "(18000, 784)"
      ]
     },
     "execution_count": 21,
     "metadata": {},
     "output_type": "execute_result"
    }
   ],
   "source": [
    "testX = testData.loc[:, 1:].values\n",
    "testX.shape"
   ]
  },
  {
   "cell_type": "code",
   "execution_count": 22,
   "id": "c2ea1050",
   "metadata": {},
   "outputs": [
    {
     "name": "stdout",
     "output_type": "stream",
     "text": [
      "1/1 [==============================] - 20s 20s/step\n"
     ]
    },
    {
     "data": {
      "text/plain": [
       "array([[9.9998617e-01, 4.0770662e-08, 2.1214134e-07, 1.1090936e-09,\n",
       "        4.0387038e-10, 4.1773465e-10, 1.3329371e-05, 2.9291940e-08,\n",
       "        1.0976545e-07, 9.3191872e-09]], dtype=float32)"
      ]
     },
     "execution_count": 22,
     "metadata": {},
     "output_type": "execute_result"
    }
   ],
   "source": [
    "result = model.predict(x_test[0].reshape(1,28,28,1))\n",
    "result"
   ]
  },
  {
   "cell_type": "code",
   "execution_count": 23,
   "id": "c05c59d7",
   "metadata": {},
   "outputs": [
    {
     "data": {
      "text/plain": [
       "0"
      ]
     },
     "execution_count": 23,
     "metadata": {},
     "output_type": "execute_result"
    }
   ],
   "source": [
    "np.argmax(result)"
   ]
  },
  {
   "cell_type": "code",
   "execution_count": 24,
   "id": "1fe542fa",
   "metadata": {},
   "outputs": [
    {
     "name": "stdout",
     "output_type": "stream",
     "text": [
      "(784,)\n"
     ]
    },
    {
     "name": "stderr",
     "output_type": "stream",
     "text": [
      "Matplotlib is building the font cache; this may take a moment.\n"
     ]
    },
    {
     "name": "stdout",
     "output_type": "stream",
     "text": [
      "Label:  0\n"
     ]
    }
   ],
   "source": [
    "sampleRow = testData.loc[42000, 1:].values\n",
    "np.shape(sampleRow)\n",
    "imageData = sampleRow.reshape(28, 28)\n",
    "print (sampleRow.shape)\n",
    "\n",
    "from matplotlib import pyplot as plt\n",
    "from matplotlib.pyplot import imshow\n",
    "print (\"Label: \", testData.loc[42000, 0])"
   ]
  },
  {
   "cell_type": "code",
   "execution_count": 25,
   "id": "ac6fe404",
   "metadata": {},
   "outputs": [
    {
     "data": {
      "text/plain": [
       "<matplotlib.image.AxesImage at 0x1cb12ba5690>"
      ]
     },
     "execution_count": 25,
     "metadata": {},
     "output_type": "execute_result"
    },
    {
     "data": {
      "image/png": "[encoded data removed]",
      "text/plain": [
       "<Figure size 640x480 with 1 Axes>"
      ]
     },
     "metadata": {},
     "output_type": "display_data"
    }
   ],
   "source": [
    "imshow(imageData, cmap='Greys_r', \n",
    "       interpolation='None')"
   ]
  },
  {
   "cell_type": "code",
   "execution_count": null,
   "id": "de918829",
   "metadata": {},
   "outputs": [],
   "source": []
  }
 ],
 "metadata": {
  "kernelspec": {
   "display_name": "Python 3 (ipykernel)",
   "language": "python",
   "name": "python3"
  },
  "language_info": {
   "codemirror_mode": {
    "name": "ipython",
    "version": 3
   },
   "file_extension": ".py",
   "mimetype": "text/x-python",
   "name": "python",
   "nbconvert_exporter": "python",
   "pygments_lexer": "ipython3",
   "version": "3.11.4"
  }
 },
 "nbformat": 4,
 "nbformat_minor": 5
}
