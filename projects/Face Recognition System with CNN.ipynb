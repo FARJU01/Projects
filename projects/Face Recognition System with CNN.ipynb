{
 "cells": [
  {
   "cell_type": "code",
   "execution_count": 1,
   "id": "951afb38",
   "metadata": {},
   "outputs": [],
   "source": [
    "from keras.preprocessing.image import ImageDataGenerator"
   ]
  },
  {
   "cell_type": "code",
   "execution_count": 2,
   "id": "ad29d67f",
   "metadata": {},
   "outputs": [],
   "source": [
    "TrainingImagePath='C:\\\\Face-Images\\\\Face Images\\\\Final Training Images'\n"
   ]
  },
  {
   "cell_type": "code",
   "execution_count": 3,
   "id": "35279f94",
   "metadata": {},
   "outputs": [],
   "source": [
    "from keras.preprocessing.image import ImageDataGenerator"
   ]
  },
  {
   "cell_type": "code",
   "execution_count": 4,
   "id": "6a15eaf0",
   "metadata": {},
   "outputs": [],
   "source": [
    "train_datagen = ImageDataGenerator(\n",
    "        shear_range=0.1,\n",
    "        zoom_range=0.1,\n",
    "        horizontal_flip=True)"
   ]
  },
  {
   "cell_type": "code",
   "execution_count": 5,
   "id": "877a9924",
   "metadata": {},
   "outputs": [],
   "source": [
    "test_datagen = ImageDataGenerator()"
   ]
  },
  {
   "cell_type": "code",
   "execution_count": 9,
   "id": "a7ef4455",
   "metadata": {},
   "outputs": [
    {
     "name": "stdout",
     "output_type": "stream",
     "text": [
      "Found 1426 images belonging to 30 classes.\n"
     ]
    }
   ],
   "source": [
    "training_set = train_datagen.flow_from_directory(\n",
    "        TrainingImagePath,\n",
    "        target_size=(64, 64),\n",
    "        batch_size=32,\n",
    "        class_mode='categorical')"
   ]
  },
  {
   "cell_type": "code",
   "execution_count": 10,
   "id": "54a14b10",
   "metadata": {},
   "outputs": [
    {
     "name": "stdout",
     "output_type": "stream",
     "text": [
      "Found 1426 images belonging to 30 classes.\n"
     ]
    }
   ],
   "source": [
    "test_set = test_datagen.flow_from_directory(\n",
    "        TrainingImagePath,\n",
    "        target_size=(64, 64),\n",
    "        batch_size=32,\n",
    "        class_mode='categorical')"
   ]
  },
  {
   "cell_type": "code",
   "execution_count": 11,
   "id": "7a645057",
   "metadata": {},
   "outputs": [
    {
     "data": {
      "text/plain": [
       "{'face1': 0,\n",
       " 'face10': 1,\n",
       " 'face11': 2,\n",
       " 'face12': 3,\n",
       " 'face13': 4,\n",
       " 'face14': 5,\n",
       " 'face15': 6,\n",
       " 'face16': 7,\n",
       " 'face17': 8,\n",
       " 'face18': 9,\n",
       " 'face19': 10,\n",
       " 'face2': 11,\n",
       " 'face20': 12,\n",
       " 'face21': 13,\n",
       " 'face22': 14,\n",
       " 'face23': 15,\n",
       " 'face24': 16,\n",
       " 'face25': 17,\n",
       " 'face26': 18,\n",
       " 'face27': 19,\n",
       " 'face28': 20,\n",
       " 'face29': 21,\n",
       " 'face3': 22,\n",
       " 'face30': 23,\n",
       " 'face4': 24,\n",
       " 'face5': 25,\n",
       " 'face6': 26,\n",
       " 'face7': 27,\n",
       " 'face8': 28,\n",
       " 'face9': 29}"
      ]
     },
     "execution_count": 11,
     "metadata": {},
     "output_type": "execute_result"
    }
   ],
   "source": [
    "test_set.class_indices"
   ]
  },
  {
   "cell_type": "code",
   "execution_count": 12,
   "id": "1674843b",
   "metadata": {},
   "outputs": [],
   "source": [
    "TrainClasses=training_set.class_indices"
   ]
  },
  {
   "cell_type": "code",
   "execution_count": 13,
   "id": "74521ac1",
   "metadata": {},
   "outputs": [],
   "source": [
    "ResultMap={}\n",
    "for faceValue,faceName in zip(TrainClasses.values(),TrainClasses.keys()):\n",
    "    ResultMap[faceValue]=faceName\n"
   ]
  },
  {
   "cell_type": "code",
   "execution_count": 14,
   "id": "435a4646",
   "metadata": {},
   "outputs": [],
   "source": [
    "import pickle\n",
    "with open(\"ResultsMap.pkl\", 'wb') as fileWriteStream:\n",
    "    pickle.dump(ResultMap, fileWriteStream)"
   ]
  },
  {
   "cell_type": "code",
   "execution_count": 15,
   "id": "f9bdded6",
   "metadata": {},
   "outputs": [
    {
     "name": "stdout",
     "output_type": "stream",
     "text": [
      "Mapping of Face and its ID {0: 'face1', 1: 'face10', 2: 'face11', 3: 'face12', 4: 'face13', 5: 'face14', 6: 'face15', 7: 'face16', 8: 'face17', 9: 'face18', 10: 'face19', 11: 'face2', 12: 'face20', 13: 'face21', 14: 'face22', 15: 'face23', 16: 'face24', 17: 'face25', 18: 'face26', 19: 'face27', 20: 'face28', 21: 'face29', 22: 'face3', 23: 'face30', 24: 'face4', 25: 'face5', 26: 'face6', 27: 'face7', 28: 'face8', 29: 'face9'}\n"
     ]
    }
   ],
   "source": [
    "print(\"Mapping of Face and its ID\",ResultMap)"
   ]
  },
  {
   "cell_type": "code",
   "execution_count": 16,
   "id": "38b3310c",
   "metadata": {},
   "outputs": [
    {
     "name": "stdout",
     "output_type": "stream",
     "text": [
      "\n",
      " The Number of output neurons:  30\n"
     ]
    }
   ],
   "source": [
    "OutputNeurons=len(ResultMap)\n",
    "print('\\n The Number of output neurons: ', OutputNeurons)"
   ]
  },
  {
   "cell_type": "code",
   "execution_count": 17,
   "id": "5691bcb7",
   "metadata": {},
   "outputs": [],
   "source": [
    "from keras.models import Sequential\n",
    "from keras.layers import Convolution2D\n",
    "from keras.layers import MaxPool2D\n",
    "from keras.layers import Flatten\n",
    "from keras.layers import Dense\n"
   ]
  },
  {
   "cell_type": "code",
   "execution_count": 18,
   "id": "68a0a4b8",
   "metadata": {},
   "outputs": [],
   "source": [
    "classifier= Sequential()"
   ]
  },
  {
   "cell_type": "code",
   "execution_count": 19,
   "id": "6a0b674a",
   "metadata": {},
   "outputs": [],
   "source": [
    "classifier.add(Convolution2D(32, kernel_size=(5, 5), strides=(1, 1), input_shape=(64,64,3), activation='relu'))"
   ]
  },
  {
   "cell_type": "code",
   "execution_count": 20,
   "id": "cde100dd",
   "metadata": {},
   "outputs": [],
   "source": [
    "classifier.add(MaxPool2D(pool_size=(2,2)))"
   ]
  },
  {
   "cell_type": "code",
   "execution_count": 21,
   "id": "30aab5dd",
   "metadata": {},
   "outputs": [],
   "source": [
    "classifier.add(Convolution2D(64, kernel_size=(5, 5), strides=(1, 1), activation='relu'))\n",
    "classifier.add(MaxPool2D(pool_size=(2,2)))"
   ]
  },
  {
   "cell_type": "code",
   "execution_count": 22,
   "id": "29c793d2",
   "metadata": {},
   "outputs": [],
   "source": [
    "classifier.add(Flatten())"
   ]
  },
  {
   "cell_type": "code",
   "execution_count": 23,
   "id": "f43fb8a8",
   "metadata": {},
   "outputs": [],
   "source": [
    "classifier.add(Dense(64, activation='relu'))\n",
    "classifier.add(Dense(OutputNeurons, activation='softmax'))"
   ]
  },
  {
   "cell_type": "code",
   "execution_count": 24,
   "id": "ab5e5797",
   "metadata": {},
   "outputs": [],
   "source": [
    "classifier.compile(loss='categorical_crossentropy', optimizer = 'adam', metrics=[\"accuracy\"])"
   ]
  },
  {
   "cell_type": "code",
   "execution_count": 25,
   "id": "5bbbff9c",
   "metadata": {},
   "outputs": [],
   "source": [
    "import time"
   ]
  },
  {
   "cell_type": "code",
   "execution_count": 26,
   "id": "97b6137c",
   "metadata": {},
   "outputs": [],
   "source": [
    "StartTime=time.time()"
   ]
  },
  {
   "cell_type": "code",
   "execution_count": 27,
   "id": "56b614e9",
   "metadata": {},
   "outputs": [
    {
     "name": "stderr",
     "output_type": "stream",
     "text": [
      "C:\\Users\\windows\\AppData\\Local\\Temp\\ipykernel_728\\2672202290.py:1: UserWarning: `Model.fit_generator` is deprecated and will be removed in a future version. Please use `Model.fit`, which supports generators.\n",
      "  classifier.fit_generator(\n"
     ]
    },
    {
     "name": "stdout",
     "output_type": "stream",
     "text": [
      "Epoch 1/10\n",
      "30/30 [==============================] - 66s 2s/step - loss: 18.1125 - accuracy: 0.0529 - val_loss: 3.1685 - val_accuracy: 0.1000\n",
      "Epoch 2/10\n",
      "30/30 [==============================] - 37s 1s/step - loss: 3.0929 - accuracy: 0.1047 - val_loss: 2.8725 - val_accuracy: 0.1469\n",
      "Epoch 3/10\n",
      "30/30 [==============================] - 34s 1s/step - loss: 2.9070 - accuracy: 0.1625 - val_loss: 2.6158 - val_accuracy: 0.2125\n",
      "Epoch 4/10\n",
      "30/30 [==============================] - 34s 1s/step - loss: 2.6745 - accuracy: 0.1945 - val_loss: 2.5795 - val_accuracy: 0.2594\n",
      "Epoch 5/10\n",
      "30/30 [==============================] - 35s 1s/step - loss: 2.4996 - accuracy: 0.2505 - val_loss: 2.5020 - val_accuracy: 0.2562\n",
      "Epoch 6/10\n",
      "30/30 [==============================] - 35s 1s/step - loss: 2.3948 - accuracy: 0.2833 - val_loss: 2.0843 - val_accuracy: 0.3562\n",
      "Epoch 7/10\n",
      "30/30 [==============================] - 34s 1s/step - loss: 2.2667 - accuracy: 0.3362 - val_loss: 2.2794 - val_accuracy: 0.3625\n",
      "Epoch 8/10\n",
      "30/30 [==============================] - 36s 1s/step - loss: 2.1602 - accuracy: 0.3552 - val_loss: 1.9002 - val_accuracy: 0.4313\n",
      "Epoch 9/10\n",
      "30/30 [==============================] - 34s 1s/step - loss: 1.9912 - accuracy: 0.3858 - val_loss: 1.6472 - val_accuracy: 0.5125\n",
      "Epoch 10/10\n",
      "30/30 [==============================] - 36s 1s/step - loss: 1.8657 - accuracy: 0.4387 - val_loss: 1.5818 - val_accuracy: 0.5063\n",
      "###### Total Time Taken:  7 Minutes ######\n"
     ]
    }
   ],
   "source": [
    "classifier.fit_generator(\n",
    "                    training_set,\n",
    "                    steps_per_epoch=30,\n",
    "                    epochs=10,\n",
    "                    validation_data=test_set,\n",
    "                    validation_steps=10)\n",
    "EndTime=time.time()\n",
    "print(\"###### Total Time Taken: \", round((EndTime-StartTime)/60), 'Minutes ######')"
   ]
  },
  {
   "cell_type": "code",
   "execution_count": 29,
   "id": "544f141c",
   "metadata": {},
   "outputs": [],
   "source": [
    "import numpy as np\n",
    "from keras.utils import load_img,img_to_array\n",
    "ImagePath='C:\\\\Face-Images\\\\Face Images\\\\Final Testing Images\\\\face4\\\\3face4.jpg'\n",
    "test_image=load_img(ImagePath,target_size=(64, 64))\n",
    "test_image=img_to_array(test_image)\n",
    "\n",
    "test_image=np.expand_dims(test_image,axis=0)\n",
    "\n",
    "result=classifier.predict(test_image,verbose=0)"
   ]
  },
  {
   "cell_type": "code",
   "execution_count": 30,
   "id": "bb4a8853",
   "metadata": {},
   "outputs": [
    {
     "name": "stdout",
     "output_type": "stream",
     "text": [
      "########################################\n",
      "Prediction is:  face4\n"
     ]
    }
   ],
   "source": [
    "print('####'*10)\n",
    "print('Prediction is: ',ResultMap[np.argmax(result)])"
   ]
  },
  {
   "cell_type": "code",
   "execution_count": null,
   "id": "199e81e3",
   "metadata": {},
   "outputs": [],
   "source": []
  }
 ],
 "metadata": {
  "kernelspec": {
   "display_name": "Python 3 (ipykernel)",
   "language": "python",
   "name": "python3"
  },
  "language_info": {
   "codemirror_mode": {
    "name": "ipython",
    "version": 3
   },
   "file_extension": ".py",
   "mimetype": "text/x-python",
   "name": "python",
   "nbconvert_exporter": "python",
   "pygments_lexer": "ipython3",
   "version": "3.11.4"
  }
 },
 "nbformat": 4,
 "nbformat_minor": 5
}
